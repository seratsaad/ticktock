{
 "cells": [
  {
   "cell_type": "code",
   "execution_count": 1,
   "id": "3875c574-b7e0-40a5-9f53-6e7a19909a91",
   "metadata": {},
   "outputs": [],
   "source": [
    "import numpy as np\n",
    "import matplotlib.pyplot as plt\n",
    "from diskfit import profilecirc\n",
    "from diskfit import likelihood, utils\n",
    "from scipy.optimize import minimize\n",
    "\n",
    "import numpy as np\n",
    "import matplotlib.pyplot as plt\n",
    "from diskfit import likelihood, utils\n",
    "from scipy.optimize import minimize\n",
    "\n",
    "%matplotlib inline\n",
    "import os,sys\n",
    "import matplotlib\n",
    "import numpy as np\n",
    "from astropy.io import fits\n",
    "import matplotlib.pyplot as plt\n",
    "import warnings\n",
    "warnings.filterwarnings(\"ignore\")\n",
    "import csv\n",
    "import pandas as pd\n",
    "import sfdmap\n",
    "import extinction\n",
    "from astropy import units as u\n",
    "import math\n",
    "import pylatex\n",
    "\n",
    "# pyqsofit\n",
    "from scipy import interpolate\n",
    "\n",
    "# for SDSS SQL queries\n",
    "#import mechanize\n",
    "#from io import BytesIO\n",
    "\n",
    "import glob,timeit\n",
    "\n",
    "#sys.path.append('/Users/runnojc1/Software/py/pyspeckit')\n",
    "import pyspeckit\n",
    "from pyspeckit.spectrum.models.inherited_gaussfitter import gaussian\n",
    "from pyspeckit.specwarnings import PyspeckitWarning\n",
    "from astropy.table import Table\n",
    "\n",
    "import tqdm\n",
    "\n",
    "import warnings\n",
    "from astropy.units import UnitsWarning"
   ]
  },
  {
   "cell_type": "code",
   "execution_count": 2,
   "id": "1fe44a52-835e-4001-9861-357bce5e6a57",
   "metadata": {},
   "outputs": [],
   "source": [
    "# Decomposed values\n",
    "FE_S0 = 26.98101902  \n",
    "FE_INDEX0 = 39.58118213  \n",
    "FE_SHIFT0 = 0.02259045495  \n",
    "SB_S0 = 6.286910627  \n",
    "SB_INDEX0 = 7  \n",
    "SB_SHIFT0 = 0.01506175323 \n",
    "\n",
    "\n",
    "\n",
    "\n",
    "# Templates\n",
    "feii_template_path='/home/serat/Downloads/fe_op_templates.npy'\n",
    "stellar_template_path='/home/serat/Downloads/PyQSOfit_MILES_templates.dat'\n",
    "balmer_cont_template_path='/home/serat/Downloads/balmer_cont_templates.npy'\n",
    "balmer_highorder_template_path='/home/serat/Downloads/balmer_highorder_templates.npy'\n",
    "\n",
    "num_templates_feii=100\n",
    "num_templates_host=8\n",
    "num_templates_balmer_cont=20\n",
    "num_templates_balmer_highorder=21\n",
    "\n",
    "feii_templates=np.load(feii_template_path,allow_pickle=True)\n",
    "stellar_templates=np.genfromtxt(stellar_template_path,skip_header=5)\n",
    "balmer_cont_templates=np.load(balmer_cont_template_path,allow_pickle=True)\n",
    "balmer_highorder_templates=np.load(balmer_highorder_template_path,allow_pickle=True)"
   ]
  },
  {
   "cell_type": "code",
   "execution_count": 3,
   "id": "e3db66e0-cb48-4b7b-bf13-de1bebe30108",
   "metadata": {},
   "outputs": [],
   "source": [
    "# Functions for new spectra\n",
    "\n",
    "def kms_to_ang(dv,w0):\n",
    "    \"\"\"\n",
    "    Convert a width in km/s to A.\n",
    "    \"\"\"\n",
    "    c = 2.99792458e5 # km/s\n",
    "    dlam = (dv/c)*w0\n",
    "    return dlam\n",
    "\n",
    "def gaussian(xarr,amplitude,cent,fwhm,normalized=False,return_components=False,return_hyperfine_components=False):\n",
    "    \"\"\"\n",
    "    Returns a 1-dimensional gaussian of form\n",
    "    A*np.exp(-(x-dx)**2/(2*w**2))\n",
    "\n",
    "    Area is sqrt(2*pi*sigma^2)*amplitude - i.e., this is NOT a normalized\n",
    "    gaussian, unless normalized=True in which case A = Area\n",
    "    \n",
    "    Parameters\n",
    "    ----------\n",
    "    xarr : np.ndarray\n",
    "        array of x values\n",
    "    amplitude : float\n",
    "        Amplitude of the Gaussian, i.e. its peak value, unless\n",
    "        normalized=True then A is the area of the gaussian\n",
    "    cent : float\n",
    "        Center or \"shift\" of the gaussian same units as xarr\n",
    "    fwhm : float\n",
    "        Full width at half maximum of the Gaussian in km/s\n",
    "    return_components : bool\n",
    "        dummy variable; return_components does nothing but is required by all\n",
    "        fitters\n",
    "    return_hyperfine_components : bool\n",
    "        dummy variable; does nothing but is required by all\n",
    "        fitters\n",
    "    normalized : bool\n",
    "        Return a normalized Gaussian?\n",
    "    \"\"\" \n",
    "    fwhm = kms_to_ang(fwhm,cent)\n",
    "    if fwhm == 0:\n",
    "        return np.nan\n",
    "    elif fwhm < 0:\n",
    "        warnings.warn(\"Negative width in Gaussian: {0}.\".format(fwhm),\n",
    "                      PyspeckitWarning)\n",
    "\n",
    "    width = fwhm/np.sqrt(8*np.log(2))\n",
    "    xarr = np.array(xarr) # make sure xarr is no longer a spectroscopic axis\n",
    "    model = amplitude*np.exp(-(xarr-cent)**2/(2.0*width**2))\n",
    "    if normalized:\n",
    "        return model / (np.sqrt(2*np.pi) * width**2)\n",
    "    else:\n",
    "        return model\n",
    "\n",
    "def powerlaw(x, scale, power):\n",
    "    \"\"\"\n",
    "    Defines a power law\n",
    "\n",
    "    Returns\n",
    "    -------\n",
    "    scale * x**power\n",
    "    \"\"\"\n",
    "    return scale*(x/1000.)**-power\n",
    "\n",
    "\n",
    "def template_fitter(wave,templates,scale_factor,index,shift):\n",
    "    '''\n",
    "    given a series of templates (like stellar models by age or Fe II templates by convolution width),\n",
    "    returns a spectrum interpolated between template spectra and scaled.\n",
    "    Spectrum is also interpolated onto the wavelength vector of the observed data.\n",
    "    \n",
    "    params:\n",
    "        wave - wavelength vector of observed data\n",
    "        templates - 2D numpy array of shape (numpoints,num_templates+1), where 1st column is wavelength, subsequent columns are templates\n",
    "        index - selected index within templates [0-num_templates]. Float, will interpolate between templates when index!=int\n",
    "        scale_factor - multiplicative scale factor for spectrum\n",
    "    '''\n",
    "    num_templates=templates.shape[1]-1\n",
    "    numpoints=templates.shape[0]\n",
    "    \n",
    "    if shift>=0:\n",
    "        wave_temp=templates[:,0]*(1+shift)\n",
    "    else:\n",
    "        wave_temp=templates[:,0]/(1+shift)\n",
    "    flux_temp=templates[:,1:]\n",
    "    \n",
    "    # Perform interpolation between templates\n",
    "    if index==num_templates-1:\n",
    "        spectrum=templates[:,-1]\n",
    "    else:\n",
    "        lower_idx=int(math.floor(index)+1) #+1 because 0th index is wavelength column\n",
    "        lower_spectrum=templates[:,lower_idx] # this means lower in index, not necessarily in flux\n",
    "        \n",
    "        upper_idx=lower_idx+1\n",
    "        upper_spectrum=templates[:,upper_idx]\n",
    "        \n",
    "        weight=(index+1)-lower_idx #1=choose upper spectrum value, 0=choose lower spectrum value, 0.5=choose midpoint\n",
    "        \n",
    "        distances=upper_spectrum-lower_spectrum # array of distances between selected spectra\n",
    "        \n",
    "        spectrum=lower_spectrum+(weight*distances)\n",
    "        \n",
    "    # Perform scaling\n",
    "    scaled_spectrum=spectrum*scale_factor\n",
    "    \n",
    "    # interpolate spectrum onto wavelength vector of data\n",
    "    final_spectrum=np.interp(wave,wave_temp,scaled_spectrum)\n",
    "\n",
    "    return final_spectrum"
   ]
  },
  {
   "cell_type": "code",
   "execution_count": 4,
   "id": "afbd4e0f-2163-4c69-9459-9f66b32edd24",
   "metadata": {},
   "outputs": [],
   "source": [
    "# Integration, units, normalization\n",
    "\n",
    "maxstep = 400 # Maximum number of integration steps (integer)\n",
    "nstep = 100 # integration steps (integer, </= 400)\n",
    "relativistic = 'y' #  include relativistic effects? (y/n) [y]\n",
    "normalization = 'max' # profile normalization scheme (max/flux/none) [max]\n",
    "# Circular disk size and emission properties\n",
    "\n",
    "q1 = 1.4 #inner emissivity powerlaw index\n",
    "q2 = 1.9 #outer emissivity powerlaw index\n",
    "xib = 0.6 #power-law index break radius (XIB=0 causes Q=Q2 throughout)\n",
    "\n",
    "# Wind properties\n",
    "t0 = 1e-7   # optical depth normalization (0=no wind)\n",
    "eta = 0. #optical depth power-law index\n",
    "anglam = 15 #wind opening angle (degrees)\n",
    "version = 'f' #formula for escape probability (f=Flohic, m=Murray)\n",
    "\n",
    "# Spiral arms 7\n",
    "amp = 7 #contrast of spiral arm (0=no arms)\n",
    "narms = 1 #number of arms (integer)\n",
    "aobs = 250 #spiral orientation (degrees, +ve=outer, -ve=inner)\n",
    "pitch = 310 #pitch angle of spiral pattern (+ve=leading, -ve=trailing)\n",
    "width = 77 #angular width of arm (degrees)\n",
    "xispin = 0 #inner spiral arm radius radius (GM/c^2, 0=XI1)\n",
    "xispout = 0 #outer spiral arm radius radius (GM/c^2, 0=XI2)\n",
    "\n",
    "#Narrow lines\n",
    "narrowwidth = 4.0 # Width of component 1 of broad line in Angstroms\n",
    "narrowwidth2 = 2.5 # Width of component 2 of broad line in Angstroms\n",
    "narrowfrac = 1.0 #Amplitude fraction the two narrow line components\n",
    "\n",
    "\n",
    "NIIa = 6549.86\n",
    "Halpha = 6564.614\n",
    "NIIb = 6585.27\n",
    "SIIa = 6718.29\n",
    "SIIb = 6732.68\n",
    "lines = [Halpha,NIIa,NIIb,SIIa,SIIb]\n",
    "NIIb_NIIa = 4.8\n",
    "SIIb_SIIa = 0.7\n",
    "OIb_OIa = 0.33\n",
    "ratios = [NIIb_NIIa,SIIb_SIIa,OIb_OIa]\n",
    "\n",
    "olambda = 6564.614#6563 # nominal wavelength of the Halpha line (Angstrom)\n",
    "#wavemin = 6300  # minimum rest wavelength (Angstrom)\n",
    "#wavemax = 6900  # maximum rest wavelength (Angstrom)\n",
    "#wave = wl/(1+z) # Convert the spectrum to rest frame wavelength\n",
    "#indwave = np.argwhere((wave>wavemin)&(wave<wavemax)&~np.isnan(flux))[:,0]\n",
    "#wl = np.asarray(wl[indwave],dtype=np.float64)\n",
    "#flux = flux[indwave]\n",
    "#fluxerr = fluxerr[indwave]\n",
    "\n",
    "\n",
    "# Bounds on parameters\n",
    "angimax = 360                                                                       \n",
    "angimin= -360                                                                       \n",
    "xi1min = 10                                                                         \n",
    "xi1max = 2000                                                                       \n",
    "xi2min = 100                                                                        \n",
    "xi2max = 4000                                                                       \n",
    "broadmin = 0                                                                        \n",
    "broadmax = 3000                                                                                                                                            \n",
    "ampmin = 0.0                                                                        \n",
    "ampmax = 8.0                                                                        \n",
    "pitchmin = -60                                                                      \n",
    "pitchmax = 60                                                                       \n",
    "aobsmin = -720                                                                      \n",
    "aobsmax = 360*3 \n",
    "narrowwidthmin=0\n",
    "narrowwidthmax=12.0\n",
    "narrowwidth2min = 0\n",
    "narrowwidth2max = 12.0\n",
    "narrowfracmin = 0.01\n",
    "narrowfracmax = 10"
   ]
  },
  {
   "cell_type": "markdown",
   "id": "d2f177e6-8168-4976-a9d4-e5007e7870a4",
   "metadata": {},
   "source": [
    "# DATA"
   ]
  },
  {
   "cell_type": "code",
   "execution_count": 5,
   "id": "f2d76cc7-be4f-464f-8ca6-76002f0d5e57",
   "metadata": {},
   "outputs": [],
   "source": [
    "SII1_F0 = 11.1721073\n",
    "SII1_CENT0 = 6716.04314\n",
    "SII1_FWHM0 = 393.5954679\n",
    "SII2_F0 = 8.335673742\n",
    "SII2_CENT0 = 6730.906927\n",
    "SII2_FWHM0 = 393.5954679\n",
    "NII1_F0 = 10.63741401\n",
    "NII1_CENT0 = 6548.323235\n",
    "NII1_FWHM0 = 393.5954679\n",
    "NII2_F0 = 31.52318712\n",
    "NII2_CENT0 = 6582.888789\n",
    "NII2_FWHM0 = 393.5954679 \n",
    "HALPHA1_F0 = 20.63047916\n",
    "HALPHA1_CENT0 = 6562.187441\n",
    "HALPHA1_FWHM0 = 393.5954679\n",
    "\n",
    "OI1_F0 = 7.998443445  \n",
    "OI1_CENT0 = 6300.416844  \n",
    "OI1_FWHM0 = 393.5954679  \n",
    "OI2_F0 = 2.666147815  \n",
    "OI2_CENT0 = 6367.798683  \n",
    "OI2_FWHM0 = 393.5954679 "
   ]
  },
  {
   "cell_type": "code",
   "execution_count": 6,
   "id": "68a3e71c-a5f0-4152-be12-6cc016d708cb",
   "metadata": {},
   "outputs": [
    {
     "data": {
      "image/png": "[encoded data removed]",
      "text/plain": [
       "<Figure size 640x480 with 1 Axes>"
      ]
     },
     "metadata": {},
     "output_type": "display_data"
    }
   ],
   "source": [
    "file_name = '/home/serat/Downloads/ticktock/bundle_20230529_standards/spectrum_20230112_0000010_exp01_red.fits'\n",
    "hdul = fits.open(file_name)\n",
    "data = hdul[0].data\n",
    "hdr = hdul[0].header\n",
    "\n",
    "z = 0.081\n",
    "\n",
    "wl = data[0]\n",
    "flux = data[1] * (10**16)\n",
    "err = data[2]\n",
    "\n",
    "\n",
    "wl = wl / (1 + z)\n",
    "\n",
    "\n",
    "mask0 = np.where((wl > 6000) & (wl < 7500))\n",
    "wl_o = wl[mask0]\n",
    "flux_o = flux[mask0]\n",
    "err_o = err[mask0]\n",
    "\n",
    "\n",
    "mask1 = np.where((wl_o < 6015) | (wl_o > 6170))\n",
    "wl = wl_o[mask1]\n",
    "flux = flux_o[mask1]\n",
    "err = err_o[mask1]\n",
    "\n",
    "mask2 = np.where((wl < 6340) | (wl > 6445))\n",
    "wl = wl[mask2]\n",
    "flux = flux[mask2]\n",
    "err = err[mask2]\n",
    "\n",
    "mask3 = np.where((wl < 6455) | (wl > 6800))\n",
    "wl = wl[mask3]\n",
    "flux = flux[mask3]\n",
    "err = err[mask3]\n",
    "\n",
    "mask4 = np.where((wl < 7000) | (wl > 7130))\n",
    "wl = wl[mask4]\n",
    "flux = flux[mask4]\n",
    "err = err[mask4]\n",
    "\n",
    "\n",
    "coefficients = np.polyfit(wl, flux, 3)\n",
    "polynomial = np.poly1d(coefficients)\n",
    "fitted_continuum = polynomial(wl_o)\n",
    "\n",
    "degree = 3\n",
    "\n",
    "coefficients = np.polyfit(wl, flux, degree)\n",
    "polynomial_continuum = np.poly1d(coefficients)(wl_o)\n",
    "standard_flux = flux_o / polynomial_continuum\n",
    "standard_wl = wl_o\n",
    "\n",
    "file_path = '/home/serat/Downloads/ticktock/HET/combined_spectrum_20230113_0000022_exp01.fits'\n",
    "\n",
    "t = Table.read(file_path)\n",
    "t.sort('Wavelength')\n",
    "\n",
    "z = 0.081\n",
    "wl = t['Wavelength']/(1+z)\n",
    "flux = t['F_lambda'] * (10**17)\n",
    "err = t['e_F_lambda'] * (10**17)\n",
    "\n",
    "flux_lim = np.where(flux>0)[0]\n",
    "source_wl=wl[flux_lim]\n",
    "source_flux=flux[flux_lim]\n",
    "source_err=err[flux_lim]\n",
    "\n",
    "wl_lim = np.where((source_wl>6320)&(source_wl<6740))\n",
    "source_wl=source_wl[wl_lim]\n",
    "source_flux=source_flux[wl_lim]\n",
    "source_err=source_err[wl_lim]\n",
    "\n",
    "shift = 0\n",
    "scale = 1.18\n",
    "\n",
    "tmp = standard_flux\n",
    "\n",
    "standard_wl = standard_wl + shift\n",
    "tmp = (1-(1-tmp)**scale)\n",
    "inf = np.where(np.isfinite(tmp) == False)[0]\n",
    "\n",
    "standard_flux[inf] = 1\n",
    "standard_flux = (1-(1-standard_flux)**scale)\n",
    "\n",
    "mask1 = np.where(standard_wl < 6340)[0]\n",
    "mask2 = np.where((standard_wl > 6445) & (standard_wl < 6455))[0]\n",
    "mask3 = np.where((standard_wl > 6800) & (standard_wl < 7010))[0]\n",
    "mask4 = np.where(standard_wl > 7130)[0]\n",
    "\n",
    "standard_flux[mask1] = 1\n",
    "standard_flux[mask2] = 1\n",
    "standard_flux[mask3] = 1\n",
    "standard_flux[mask4] = 1\n",
    "\n",
    "\n",
    "\n",
    "bin_size = 4\n",
    "bins = np.arange(start=min(np.min(source_wl), np.min(standard_wl)), stop=max(np.max(source_wl), np.max(standard_wl)) + bin_size, step=bin_size)\n",
    "bin_centers = 0.5 * (bins[:-1] + bins[1:])\n",
    "wavelength = bin_centers\n",
    "\n",
    "\n",
    "indices1 = np.digitize(source_wl, bins) - 1\n",
    "indices2 = np.digitize(standard_wl, bins) - 1\n",
    "source_flux = np.array([np.mean(source_flux[indices1 == i]) for i in range(len(bin_centers))])\n",
    "standard_flux = np.array([np.mean(standard_flux[indices2 == i]) for i in range(len(bin_centers))])\n",
    "binned_err = np.array([np.mean(source_err[indices1 == i]) for i in range(len(bin_centers))])\n",
    "\n",
    "\n",
    "flux_halpha = source_flux / standard_flux\n",
    "corrected_wl = bin_centers\n",
    "\n",
    "rest_wavelength = 6564.93\n",
    "\n",
    "c = 299792.458\n",
    "\n",
    "vel_halpha = c * (corrected_wl - rest_wavelength) / rest_wavelength\n",
    "\n",
    "\n",
    "pl = powerlaw(corrected_wl, 6.726822875, -0.9262954893 )\n",
    "\n",
    "x = np.array(corrected_wl)\n",
    "\n",
    "sii1 = gaussian(x,SII1_F0,SII1_CENT0,SII1_FWHM0,normalized=False)\n",
    "sii2 = gaussian(x,SII2_F0,SII2_CENT0,SII2_FWHM0,normalized=False)\n",
    "\n",
    "nii1 = gaussian(x,NII1_F0,NII1_CENT0,NII1_FWHM0,normalized=False)\n",
    "nii2 = gaussian(x,NII2_F0,NII2_CENT0,NII2_FWHM0,normalized=False)\n",
    "\n",
    "oi1 = gaussian(x,OI1_F0,OI1_CENT0,OI1_FWHM0,normalized=False)\n",
    "oi2 = gaussian(x,OI2_F0,OI2_CENT0,OI2_FWHM0,normalized=False)\n",
    "\n",
    "halpha = gaussian(x,HALPHA1_F0,HALPHA1_CENT0,HALPHA1_FWHM0,normalized=False)\n",
    "\n",
    "npix = wl.shape[0]\n",
    "\n",
    "flux_halpha = flux_halpha - pl #- (halpha + oi1 + oi2 + nii1 + nii2 + sii1 + sii2)\n",
    "#narrow_lines = halpha + oi1 + oi2 + nii1 + nii2 + sii1 + sii2)\n",
    "\n",
    "plt.plot(corrected_wl, flux_halpha)\n",
    "plt.show()"
   ]
  },
  {
   "cell_type": "code",
   "execution_count": 38,
   "id": "fad82458-2de5-4248-92d6-ca8a8a5c98de",
   "metadata": {},
   "outputs": [
    {
     "name": "stdout",
     "output_type": "stream",
     "text": [
      "[227.31482056523515, 1005.0982089936541, 2594.2683203246365, 24.04172235106259, 1.0003217529331654, 3.9637593339180635, 2.509285300364497]\n"
     ]
    }
   ],
   "source": [
    "wl,flux,fluxerr = corrected_wl*(1+z), flux_halpha, binned_err\n",
    "z = 0.081\n",
    "#narrowwidth = 4.5\n",
    "\n",
    "wave = wl/(1+z)\n",
    "npix = wl.shape[0]\n",
    "\n",
    "\n",
    "# Hard coded values\n",
    "\n",
    "mcmc_soln = [227.31482056523515, 1005.0982089936541, 2594.2683203246365, 24.04172235106259, 1.0003217529331654, 3.9637593339180635, 2.509285300364497]\n",
    "amps_disk = 0.04172319059041423\n",
    "amps_narrow = [17.4, 6.9, 4.51309816, 0.]\n",
    "print(mcmc_soln)"
   ]
  },
  {
   "cell_type": "code",
   "execution_count": 39,
   "id": "e904a418-2191-428d-94aa-b9fb5521b20d",
   "metadata": {},
   "outputs": [],
   "source": [
    "soln = mcmc_soln # Or soln.x if you skipped running the full sampler.\n",
    "narrowfrac = soln[4]\n",
    "narrowwidth = soln[5]\n",
    "narrowwidth2 = soln[6]\n",
    "\n",
    "\n",
    "fixed_labels = ['amps_narrow','z','ratios','q1','q2','xib','maxstep','anglam','t0','eta','version','amp','narms','aobs','pitch','width','xispin','xispout','nstep','relativistic','olambda','npix']\n",
    "fixed_values = [amps_narrow,z,ratios,q1,q2,xib,maxstep,anglam,t0,eta,version,amp,narms,aobs,pitch,width,xispin,xispout,nstep,relativistic,olambda,npix]\n",
    "fixed = dict(zip(fixed_labels,fixed_values))\n"
   ]
  },
  {
   "cell_type": "code",
   "execution_count": 40,
   "id": "47cc8140-454c-4543-864e-943b29930e31",
   "metadata": {},
   "outputs": [],
   "source": [
    "\n",
    "broad_center_min = 6400  \n",
    "broad_center_max = 6700\n",
    "broad_width_min = 10      \n",
    "broad_width_max = 1000   \n",
    "broad_amp_min = 0       \n",
    "broad_amp_max = 1e4      \n"
   ]
  },
  {
   "cell_type": "code",
   "execution_count": 41,
   "id": "10dad432-aed3-405d-8d60-3a492b472877",
   "metadata": {},
   "outputs": [
    {
     "name": "stdout",
     "output_type": "stream",
     "text": [
      "Initial: [50.6299986, 1621.55485, 1961.66656, 31.7920988, 0.0561433836, 6549.79839, 32.565742, 19.6098961, 1.58915602, 4.29307301, 0.500002059]\n"
     ]
    }
   ],
   "source": [
    "broad_center = 6563\n",
    "broad_width = 50  \n",
    "broad_amp = 7     \n",
    "xi1  = soln[0] \n",
    "xi2 = soln[1]\n",
    "broad = soln[2] # + 1700 \n",
    "angi = soln[3]\n",
    "fitted_labels = ['xi1','xi2','broad','angi','amps_disk',\n",
    "                'broad_center', 'broad_width', 'broad_amp','narrowfrac','narrowwidth','narrowwidth2']\n",
    "#initial = [xi1,xi2,broad,angi,amps_disk,\n",
    "#          broad_center, broad_width,broad_amp,narrowfrac,narrowwidth,narrowwidth2]\n",
    "initial=[5.06299986e+01,1.62155485e+03,1.96166656e+03,3.17920988e+01,5.61433836e-02,6.54979839e+03,3.25657420e+01,1.96098961e+01,\n",
    "         1.58915602e+00,4.29307301e+00,5.00002059e-01]\n",
    "print('Initial:', initial)\n",
    "fitted = dict(zip(fitted_labels,initial))\n",
    "diskmins = [xi1min,xi2min,broadmin,angimin,amps_disk*0.01,\n",
    "           broad_center_min, broad_width_min, broad_amp_min,narrowfracmin,narrowwidthmin,narrowwidth2min]\n",
    "diskmax = [xi1max,xi2max,broadmax,angimax,amps_disk*1e2,\n",
    "          broad_center_max, broad_width_max, broad_amp_max,narrowfracmax,narrowwidthmax,narrowwidth2max]"
   ]
  },
  {
   "cell_type": "code",
   "execution_count": 42,
   "id": "9518f81d-2d30-4548-b391-eabbd2392c25",
   "metadata": {},
   "outputs": [],
   "source": [
    "modelguess, diskmodel, narrowmodel, broadmodel = likelihood.model_linefit_circ_fixeddoublet_freeamplitudes(initial, wl, flux, fluxerr, lines, fixed, fitted)"
   ]
  },
  {
   "cell_type": "code",
   "execution_count": 43,
   "id": "4fad2b20-d22c-4c87-b60b-a66a2a8560ad",
   "metadata": {},
   "outputs": [
    {
     "data": {
      "image/png": "[encoded data removed]",
      "text/plain": [
       "<Figure size 600x600 with 1 Axes>"
      ]
     },
     "metadata": {},
     "output_type": "display_data"
    },
    {
     "data": {
      "text/plain": [
       "<Figure size 640x480 with 0 Axes>"
      ]
     },
     "metadata": {},
     "output_type": "display_data"
    }
   ],
   "source": [
    "plt.figure(figsize=(6,6))\n",
    "plt.plot(wl / (1 + fixed['z']), flux, label='Data', color='black')\n",
    "plt.plot(wl / (1 + fixed['z']), modelguess, label='Full Model', color='blue')\n",
    "plt.plot(wl / (1 + fixed['z']), diskmodel, label='Disk Model', linestyle='--', color='purple')\n",
    "plt.plot(wl / (1 + fixed['z']), narrowmodel, label='Narrow Lines', linestyle=':', color='green')\n",
    "plt.plot(wl / (1 + fixed['z']), broadmodel, label='Broad Lines (Combined)', linestyle='-.', color='red')\n",
    "plt.xlim(6300, 6750)\n",
    "plt.xlabel('Wavelength (Angstroms)')\n",
    "plt.ylabel('Flux')\n",
    "plt.title('Initial guess')\n",
    "plt.legend()\n",
    "plt.show()\n",
    "plt.clf()"
   ]
  },
  {
   "cell_type": "code",
   "execution_count": 44,
   "id": "510a88f4-3e1c-403b-9c4c-8594f61b6adf",
   "metadata": {},
   "outputs": [],
   "source": [
    "wl = np.ma.masked_array(wl, mask=np.isnan(flux) | np.isnan(fluxerr))\n",
    "flux = np.ma.masked_invalid(flux)\n",
    "fluxerr = np.ma.masked_invalid(fluxerr)\n",
    "\n",
    "\n",
    "\n",
    "lp = likelihood.logprob_circ_fixeddoublet_freeamplitudes(wl, flux, fluxerr, lines, fixed, fitted, diskmins, diskmax)"
   ]
  },
  {
   "cell_type": "code",
   "execution_count": 14,
   "id": "8c4c0bcc-848f-40d4-8498-c9dcde52a762",
   "metadata": {},
   "outputs": [
    {
     "name": "stdout",
     "output_type": "stream",
     "text": [
      "Best-fit parameter values [1.01105563e+02 2.12017285e+03 1.16564995e+03 4.18242593e+01\n",
      " 7.85454802e-02 6.54869268e+03 3.15433961e+01 2.28212187e+01\n",
      " 1.45272408e+00 3.77575751e+00 8.17617510e-02]\n"
     ]
    }
   ],
   "source": [
    "nll = lambda *args: -lp(*args)\n",
    "soln = minimize(nll, initial, method='Nelder-Mead')\n",
    "modelfit = lp.test(soln.x)\n",
    "print('Best-fit parameter values', soln.x)"
   ]
  },
  {
   "cell_type": "code",
   "execution_count": 15,
   "id": "b197a80b-cae1-444c-a81f-5b8012877be0",
   "metadata": {},
   "outputs": [
    {
     "data": {
      "image/png": "[encoded data removed]",
      "text/plain": [
       "<Figure size 600x600 with 1 Axes>"
      ]
     },
     "metadata": {},
     "output_type": "display_data"
    },
    {
     "data": {
      "text/plain": [
       "<Figure size 640x480 with 0 Axes>"
      ]
     },
     "metadata": {},
     "output_type": "display_data"
    }
   ],
   "source": [
    "plt.figure(figsize=(6,6))\n",
    "plt.plot(wl / (1 + fixed['z']), flux, label='Data', color='black')\n",
    "plt.plot(wl / (1 + fixed['z']), modelfit[0], label='Full Model', color='blue')\n",
    "plt.plot(wl / (1 + fixed['z']), modelfit[1], label='Disk Model', linestyle='--', color='purple')\n",
    "plt.plot(wl / (1 + fixed['z']), modelfit[2], label='Narrow Lines', linestyle=':', color='green')\n",
    "plt.plot(wl / (1 + fixed['z']), modelfit[3], label='Broad Lines (Combined)', linestyle='-.', color='red')\n",
    "plt.xlabel('Wavelength (Angstroms)')\n",
    "plt.ylabel('Flux')\n",
    "plt.xlim(6300, 6750)\n",
    "plt.title('Best fit model')\n",
    "plt.legend()\n",
    "plt.show()\n",
    "plt.clf()"
   ]
  },
  {
   "cell_type": "code",
   "execution_count": 16,
   "id": "bbedc9b1-43cb-4f80-830f-dd3ba7761db3",
   "metadata": {},
   "outputs": [
    {
     "name": "stderr",
     "output_type": "stream",
     "text": [
      "100%|████████████████████████████████████| 1760/1760 [18:06:56<00:00, 37.05s/it]\n"
     ]
    },
    {
     "data": {
      "text/plain": [
       "State([[-7.31909937e+280  4.80481360e+281  1.06801284e+281 ... -3.44823385e+276\n",
       "   9.41680125e+277 -2.11702749e+277]\n",
       " [ 3.60677656e+279 -2.36518168e+280 -5.29883928e+279 ...  1.86319053e+275\n",
       "  -4.67288453e+276  1.04705617e+276]\n",
       " [-5.24551297e+280  3.44587670e+281  7.62211472e+280 ... -2.32370084e+276\n",
       "   6.71976241e+277 -1.51382200e+277]\n",
       " ...\n",
       " [-5.92546350e+280  3.89421113e+281  8.58708719e+280 ... -2.51928579e+276\n",
       "   7.56995615e+277 -1.70759944e+277]\n",
       " [-1.01614870e+281  6.67538116e+281  1.47638865e+281 ... -4.49457261e+276\n",
       "   1.30160132e+278 -2.93238176e+277]\n",
       " [-9.69237655e+280  6.37403314e+281  1.39876769e+281 ... -3.85332281e+276\n",
       "   1.23294817e+278 -2.78693846e+277]], log_prob=[0. 0. 0. 0. 0. 0. 0. 0. 0. 0. 0. 0. 0. 0. 0. 0. 0. 0. 0. 0. 0. 0. 0. 0.\n",
       " 0. 0. 0. 0. 0. 0. 0. 0. 0. 0. 0. 0. 0. 0. 0. 0. 0. 0. 0. 0. 0. 0. 0. 0.\n",
       " 0. 0. 0. 0. 0. 0. 0. 0. 0. 0. 0. 0. 0. 0. 0. 0. 0. 0. 0. 0. 0. 0. 0. 0.\n",
       " 0. 0. 0. 0. 0. 0. 0. 0. 0. 0. 0. 0. 0. 0. 0. 0. 0. 0. 0. 0. 0. 0. 0. 0.\n",
       " 0. 0. 0. 0. 0. 0. 0. 0. 0. 0. 0. 0. 0. 0. 0. 0. 0. 0. 0. 0. 0. 0. 0. 0.\n",
       " 0. 0. 0. 0. 0. 0. 0. 0. 0. 0. 0. 0. 0. 0. 0. 0. 0. 0. 0. 0. 0. 0. 0. 0.\n",
       " 0. 0. 0. 0. 0. 0. 0. 0. 0. 0. 0. 0. 0. 0. 0. 0. 0. 0. 0. 0. 0. 0. 0. 0.\n",
       " 0. 0. 0. 0. 0. 0. 0. 0. 0. 0. 0. 0. 0. 0. 0. 0. 0. 0. 0. 0. 0. 0. 0. 0.\n",
       " 0. 0. 0. 0. 0. 0. 0. 0.], blobs=None, random_state=('MT19937', array([2473335091, 1862414698, 3752009517, 3974836697,  520103591,\n",
       "       3787529984, 4146540323, 2775395229,  433875677,  206711728,\n",
       "        506631805, 1535007274, 3969671334, 1709565254, 1076886529,\n",
       "       2580508905, 3821634741, 3875297468, 3379835838,  469650406,\n",
       "       2390236994, 2057810362, 2838136891,  644991578, 1456343159,\n",
       "       1359465465,  458157650, 1480350901, 3289805625, 4091765546,\n",
       "       1033807547,  495543489, 2560001298, 3360560435, 3869524464,\n",
       "        136170597, 3138311188, 2673374558, 3610446285, 2696153594,\n",
       "       1917356275, 2035302740, 2678332815,  445117027, 1974758338,\n",
       "       1730783837, 2298878699, 1538010403, 4223701192, 1015236964,\n",
       "       3758299719, 1013349751, 2964987054,   70910632, 1052614047,\n",
       "       3153162082, 3870020757,  536541797, 1067544607, 2860271261,\n",
       "        207579381, 2919645281, 1600524535, 2032650721, 3765417616,\n",
       "        330187878, 1973286567, 1467613580,  197420153, 1241673728,\n",
       "       3276570477, 2268450494, 2867903661, 2810759679,  419375319,\n",
       "        861526240, 4267490597, 1599983907,  411033603, 2421641462,\n",
       "       4270387538, 1007541477,  591596293,  334698829, 3082054017,\n",
       "       2039341271, 1481676270, 4147451321, 1527623893, 2366839564,\n",
       "       4180892976, 1606471530,  601719607, 2639583588,  398138936,\n",
       "       3394661068,  848930540,  949373037, 1714978283,  819305195,\n",
       "        581375472, 3564649060, 3909152919, 4085085052, 4067179711,\n",
       "       1675628802,  679914930, 3726698681,  457464098, 4141316238,\n",
       "       2582576159, 2856863735, 3431860982,  912790096, 3303935177,\n",
       "       2570077830,  103044146,  591447152, 3027514502, 1079415085,\n",
       "       1355704206, 2626365580, 1576705841, 1487556240, 3814283496,\n",
       "       1164549361, 3292308537,  114254694, 2410718875,  658183156,\n",
       "        655738812, 1686270376, 1648738066,  890531804,   78619936,\n",
       "       2453682202,  392020345, 4244411900, 2043430061, 4252202328,\n",
       "       1866118714,  640978974, 3164734280, 2916474553, 2612772035,\n",
       "        272890632, 3732539256, 1725379866, 1252229644, 2270291913,\n",
       "       2815623983, 1836199806, 3353128089,   20506360,  770368285,\n",
       "       1884664358,  630873016, 3599505542,  528850876,   50731708,\n",
       "       3499527679, 3374049828, 2730218413, 2937278019, 1228832676,\n",
       "       2341107216, 1812362920, 1375792914, 2493165564, 2856599741,\n",
       "       2320050869, 1541058016,  360527840,  687085090, 3852847910,\n",
       "        429464443,  950566850, 3572728955, 4055648487, 1338031207,\n",
       "       3869822490, 1123215238,   87059746, 1535661480, 4114852636,\n",
       "       2160432715,  412993322, 2057942451,  264749609, 1784391887,\n",
       "       2225057238, 3887745436, 1710376491,  826953508,  641568161,\n",
       "       1813756002, 4080046516, 2037552164, 2624631874, 2471071236,\n",
       "       3340442409, 2804336545, 4206754272, 1193497951, 2028039203,\n",
       "       3789938089, 2850663788, 2299856742,  690732926, 3109879834,\n",
       "       1420732374, 2421843217, 2376064799, 1578901115,  855902598,\n",
       "        898761083, 3842864493, 2823717645, 1695452896, 3742210413,\n",
       "       4105816980, 3027372424, 1083237060, 2863003493, 3578909218,\n",
       "       2862058685, 1993405512, 2713758534,  934367997, 3023323161,\n",
       "       4222151591, 3013154323, 1515461839, 3346527018, 2756481332,\n",
       "       3933628190, 3894054585,  212010391,  159465637, 1883352031,\n",
       "        185611778, 1085299350, 2918929447,    3297180, 3298138497,\n",
       "        821166355, 1839528067,  427035119, 1547126505, 3480628346,\n",
       "         26966964,  862110584, 2932499394,  465583080,    4755409,\n",
       "       1236395937, 2609843723, 3090903290, 2670261662, 3850471536,\n",
       "         41518448, 2034868385, 1905700340,  917078723, 1777893147,\n",
       "       2053693949, 1610131245, 2871759144, 4256443452, 4169358834,\n",
       "         67581298, 3251194201,  717274794, 3939576231, 1561038501,\n",
       "       4077506201,  686933745, 3803413349, 1472912418, 1324207447,\n",
       "        248727490, 3833489024, 2230871158, 2763689221, 2683462948,\n",
       "        211517388, 1009938345,   49203559, 3383686070, 1952852314,\n",
       "       3619813421, 2000273766, 2147121543, 2192478816,  392197117,\n",
       "       2481120977,   63413775, 1232458709, 1624610571, 2372231028,\n",
       "        174554236, 2116060603,  515616330, 2442875825, 1594268307,\n",
       "       2156947566, 1637098026,  329940937, 1304149596, 1779353013,\n",
       "        693010952, 3423382388, 3739648769, 3890422348, 3635504548,\n",
       "       3963221411, 4236619649, 1687756948, 1039199130, 1692141124,\n",
       "       2889508120, 2594072981,  625382142,  524016303, 3757267886,\n",
       "       4110779319,  618015579,  562136401, 1480846897, 2208000750,\n",
       "       2275215285, 2994746526, 2062715330, 2870591861, 1034634477,\n",
       "       2739563370, 1323871984,  926815914,  804273084, 2593659631,\n",
       "       2658493907, 1002083039, 2501353150,  863664515,  207469018,\n",
       "        754121991, 1114911556, 4049561686, 1173001488, 3673476863,\n",
       "        117207392,  913636720, 3462108314, 2595402565, 2702117602,\n",
       "       1223499187, 2686361993,  500823187, 1300723948, 3274351399,\n",
       "       2476005978,  583383930, 2582476565, 2599429230,  605265400,\n",
       "       1309034180, 3209676612,  748147716, 2780078913, 1585464212,\n",
       "       2002346136,  364207861,  350604683, 2204560805, 2426027611,\n",
       "       3695546426, 4236501576, 4288303714, 3517612857, 1346057883,\n",
       "       3605317500, 2486309136,  454367466,  925691372, 3901071053,\n",
       "       2889898441, 4273266707,  428639072, 1918398719, 3698991610,\n",
       "       1718304050, 1578691594,  581444479, 1487002675, 1401482722,\n",
       "       1207992510, 3655093402, 2047342662,  486717662, 2516468871,\n",
       "        963382159, 4246757782, 3300202960, 2593739126,  616125282,\n",
       "        893751570, 3018631202, 1366082928, 4086757588, 2075013259,\n",
       "        703515777,  734164608, 1928475335, 1314442365, 2903335690,\n",
       "       1358514268, 3482482030,  949711275, 2623324701,   57720466,\n",
       "       3909710456,  262256388, 4112035123, 4059983351, 1115211970,\n",
       "        510902319, 3710790850,  562892978, 2832726393, 3297380335,\n",
       "       2080523633, 2676016582, 4112568203, 2936174905,  777074891,\n",
       "       1514252887, 3830073970, 2177485932,  448662891, 3541423350,\n",
       "       3337699083, 2435932097, 4155873045,  217248849, 1711014524,\n",
       "       3782082564,  492915444,  704971530, 2118908529, 2264462074,\n",
       "       4175383860, 2433839443, 2569240924,  130170710, 1589996219,\n",
       "       2604092169, 1878747562, 3415582311, 1981984713, 2188573878,\n",
       "        531044412, 3722699945, 3256771830, 1783613591, 1300196004,\n",
       "          8060776, 3675207188, 3304419724, 3120997066, 1462088955,\n",
       "       3431322074, 1285522119, 4085798765, 3517273079, 3377058499,\n",
       "        184138972, 3170118282, 1505444189, 4129979813, 3092456141,\n",
       "       1775142915, 2612870058,  981100985, 1459422288,  553250138,\n",
       "       4001174212, 2193019263, 1875422334, 4275375189, 1720527594,\n",
       "       4027012968,  280581989,  915759625,  160477325, 1013281789,\n",
       "       3611166922, 3528935685, 2173573075, 2386119757, 3654352179,\n",
       "       3318420069,  399422182, 2783506497, 3675286031, 3783759904,\n",
       "       2988368869, 1812014065, 1838558711, 2119991122, 2149306073,\n",
       "        670048993, 1278359233, 1487826841, 2283916003, 2750128557,\n",
       "       2480134409, 1481309601, 3356210715, 1439563557,  853151615,\n",
       "       3107207586,  752462515, 3515339876,  146860169, 1947639741,\n",
       "       2694070449, 4020539598, 2504494783, 2629950973, 1056151917,\n",
       "       3193005240,   37241363, 1826047119,  529348711, 1627328463,\n",
       "       2367255241, 3835399000, 2744758861, 2459985870, 1532714619,\n",
       "       3374811358,  152776279, 4264381371, 1389366249, 3774398576,\n",
       "       2838729103,  392537227,  112482164, 1482871190, 2360163480,\n",
       "        321280253,  891057152,  368007740,  993474217, 2810451018,\n",
       "       3612144633, 1638086010, 1108873985,  311196540, 2106128145,\n",
       "       2352688494, 2783194932, 4241715163, 2246787851, 2486185810,\n",
       "        894999553, 3517315810, 2381355796, 3451209081, 3166783071,\n",
       "       2260957525, 3436455758, 1127972689, 2953329343, 3437093543,\n",
       "       1846618777, 1987091523, 4165531875, 2577251294, 4128899368,\n",
       "       3865702940, 1084056463, 1782168115, 1632039190,  273252764,\n",
       "       4285378511,  526947730, 2535464738, 1608112434,  555346183,\n",
       "       3760682027, 3165188320, 3466534111, 1319574218, 2186018166,\n",
       "       3363768664, 3977676357, 2273425674, 1217281480,  138793433,\n",
       "       2346682028,  909641240,  325796218,  860888833,  379689783,\n",
       "        560366428, 3708948171, 3488791275, 1627866977, 3276268311,\n",
       "       4153141368, 3558023620, 1912512737, 3845332057, 2195218017,\n",
       "       4214488328,  403748461, 2174698216, 1159236756, 3908875506,\n",
       "       2711519104, 3142179605, 1847605643,  157479132], dtype=uint32), 239, 0, 0.0))"
      ]
     },
     "execution_count": 16,
     "metadata": {},
     "output_type": "execute_result"
    }
   ],
   "source": [
    "import emcee\n",
    "\n",
    "#Distribute starting walkers to be very close to best-fit redshift but have more spread for disk parameters\n",
    "#pos = np.column_stack((soln.x[:-1] + 5e-2 * soln.x[:-1] * np.random.randn(20, soln.x.shape[0]-1),soln.x[-1] + 1e-6 * soln.x[-1] * np.random.randn(20,1)))\n",
    "pos = soln.x + 5e-6 * soln.x * np.random.randn(200, soln.x.shape[0])\n",
    "#pos = np.column_stack((\n",
    "#    soln.x[:5] + 5e-2 * soln.x[:5] * np.random.randn(200, 5),\n",
    "#    soln.x[5:] + 1e-3 * soln.x[5:] * np.random.randn(200, soln.x.shape[0] - 5)\n",
    "#))\n",
    "\n",
    "nwalkers, ndim = pos.shape\n",
    "filename ='emcee2.h5'\n",
    "backend = emcee.backends.HDFBackend(filename)\n",
    "#backend.reset(nwalkers, ndim)\n",
    "sampler = emcee.EnsembleSampler(\n",
    "        nwalkers, ndim, lp, args=(), backend=backend\n",
    "    )\n",
    "sampler.run_mcmc(None, 1760, progress=True)\n"
   ]
  },
  {
   "cell_type": "code",
   "execution_count": 45,
   "id": "b2e637b6-2175-4f58-8daa-00ba0118ed10",
   "metadata": {},
   "outputs": [
    {
     "data": {
      "text/latex": [
       "$\\displaystyle \\mathrm{xi1} = 101.105_{-0.002}^{+0.002}$"
      ],
      "text/plain": [
       "<IPython.core.display.Math object>"
      ]
     },
     "metadata": {},
     "output_type": "display_data"
    },
    {
     "data": {
      "text/latex": [
       "$\\displaystyle \\mathrm{xi2} = 2120.172_{-0.045}^{+0.048}$"
      ],
      "text/plain": [
       "<IPython.core.display.Math object>"
      ]
     },
     "metadata": {},
     "output_type": "display_data"
    },
    {
     "data": {
      "text/latex": [
       "$\\displaystyle \\mathrm{broad} = 1165.652_{-0.028}^{+0.024}$"
      ],
      "text/plain": [
       "<IPython.core.display.Math object>"
      ]
     },
     "metadata": {},
     "output_type": "display_data"
    },
    {
     "data": {
      "text/latex": [
       "$\\displaystyle \\mathrm{angi} = 41.824_{-0.001}^{+0.001}$"
      ],
      "text/plain": [
       "<IPython.core.display.Math object>"
      ]
     },
     "metadata": {},
     "output_type": "display_data"
    },
    {
     "data": {
      "text/latex": [
       "$\\displaystyle \\mathrm{amps_disk} = 0.079_{-0.000}^{+0.000}$"
      ],
      "text/plain": [
       "<IPython.core.display.Math object>"
      ]
     },
     "metadata": {},
     "output_type": "display_data"
    },
    {
     "data": {
      "text/latex": [
       "$\\displaystyle \\mathrm{broad_center} = 6548.697_{-0.184}^{+0.147}$"
      ],
      "text/plain": [
       "<IPython.core.display.Math object>"
      ]
     },
     "metadata": {},
     "output_type": "display_data"
    },
    {
     "data": {
      "text/latex": [
       "$\\displaystyle \\mathrm{broad_width} = 31.543_{-0.001}^{+0.001}$"
      ],
      "text/plain": [
       "<IPython.core.display.Math object>"
      ]
     },
     "metadata": {},
     "output_type": "display_data"
    },
    {
     "data": {
      "text/latex": [
       "$\\displaystyle \\mathrm{broad_amp} = 22.821_{-0.001}^{+0.000}$"
      ],
      "text/plain": [
       "<IPython.core.display.Math object>"
      ]
     },
     "metadata": {},
     "output_type": "display_data"
    },
    {
     "data": {
      "text/latex": [
       "$\\displaystyle \\mathrm{narrowfrac} = 1.453_{-0.000}^{+0.000}$"
      ],
      "text/plain": [
       "<IPython.core.display.Math object>"
      ]
     },
     "metadata": {},
     "output_type": "display_data"
    },
    {
     "data": {
      "text/latex": [
       "$\\displaystyle \\mathrm{narrowwidth} = 3.776_{-0.000}^{+0.000}$"
      ],
      "text/plain": [
       "<IPython.core.display.Math object>"
      ]
     },
     "metadata": {},
     "output_type": "display_data"
    },
    {
     "data": {
      "text/latex": [
       "$\\displaystyle \\mathrm{narrowwidth2} = 0.082_{-0.000}^{+0.000}$"
      ],
      "text/plain": [
       "<IPython.core.display.Math object>"
      ]
     },
     "metadata": {},
     "output_type": "display_data"
    }
   ],
   "source": [
    "import emcee\n",
    "import numpy as np\n",
    "from IPython.display import display, Math\n",
    "\n",
    "# File containing the saved sampler state\n",
    "filename = 'emcee2.h5'\n",
    "\n",
    "# Load the backend\n",
    "backend = emcee.backends.HDFBackend(filename)\n",
    "\n",
    "# Access the stored sampling chain\n",
    "flat_samples = backend.get_chain(flat=True)[500:1500]\n",
    "\n",
    "fitted_labels = ['xi1','xi2','broad','angi','amps_disk',\n",
    "                'broad_center', 'broad_width', 'broad_amp','narrowfrac','narrowwidth','narrowwidth2']\n",
    "\n",
    "# Compute and display results\n",
    "for i, label in enumerate(fitted_labels):\n",
    "    mcmc = np.percentile(flat_samples[:, i], [16, 50, 84])\n",
    "    q = np.diff(mcmc)\n",
    "    txt = \"\\mathrm{{{3}}} = {0:.3f}_{{-{1:.3f}}}^{{+{2:.3f}}}\"\n",
    "    txt = txt.format(mcmc[1], q[0], q[1], label)\n",
    "    display(Math(txt))\n"
   ]
  },
  {
   "cell_type": "code",
   "execution_count": null,
   "id": "3e3ab5ba-fe07-41bb-9c81-9c4ac39cc9b6",
   "metadata": {},
   "outputs": [],
   "source": []
  },
  {
   "cell_type": "code",
   "execution_count": null,
   "id": "9fab203b-409b-4636-b857-fad32ee9e772",
   "metadata": {},
   "outputs": [],
   "source": []
  },
  {
   "cell_type": "code",
   "execution_count": null,
   "id": "0f00d365-34c0-4eed-ae89-78bf4770382b",
   "metadata": {},
   "outputs": [],
   "source": []
  },
  {
   "cell_type": "code",
   "execution_count": null,
   "id": "51f3a139-5ca7-4ca5-88ef-5694a577cb1c",
   "metadata": {},
   "outputs": [],
   "source": []
  },
  {
   "cell_type": "code",
   "execution_count": null,
   "id": "958f58b3-bdb4-4d26-bdc1-ff867db41896",
   "metadata": {},
   "outputs": [],
   "source": []
  },
  {
   "cell_type": "code",
   "execution_count": null,
   "id": "fe8cb8fc-640a-430f-8821-014719b5dd30",
   "metadata": {},
   "outputs": [],
   "source": []
  },
  {
   "cell_type": "code",
   "execution_count": null,
   "id": "12718e55-3e4c-495b-90c1-64c0fde56f9d",
   "metadata": {},
   "outputs": [],
   "source": []
  },
  {
   "cell_type": "code",
   "execution_count": null,
   "id": "cd6e26b4-528f-4da9-8a96-f2aa7c95bff5",
   "metadata": {},
   "outputs": [],
   "source": []
  },
  {
   "cell_type": "code",
   "execution_count": null,
   "id": "15565770-7a2b-455c-8cbc-9f219372c1ab",
   "metadata": {},
   "outputs": [],
   "source": []
  },
  {
   "cell_type": "code",
   "execution_count": null,
   "id": "70a994e7-dd9f-4bc3-b20a-5c84e26a8d50",
   "metadata": {},
   "outputs": [],
   "source": []
  },
  {
   "cell_type": "code",
   "execution_count": null,
   "id": "ea402bc4-491c-4d44-8b1b-971f7da4527b",
   "metadata": {},
   "outputs": [],
   "source": []
  },
  {
   "cell_type": "code",
   "execution_count": null,
   "id": "c6b3088e-6767-4f57-b0a7-2bffb6f13f09",
   "metadata": {},
   "outputs": [],
   "source": []
  },
  {
   "cell_type": "code",
   "execution_count": null,
   "id": "a585e185-7031-455c-9c41-9c80bb7832d7",
   "metadata": {},
   "outputs": [],
   "source": []
  },
  {
   "cell_type": "code",
   "execution_count": null,
   "id": "8d9a703d-f3ae-49e5-b097-1d904675918c",
   "metadata": {},
   "outputs": [],
   "source": []
  },
  {
   "cell_type": "code",
   "execution_count": null,
   "id": "343924a1-02d9-4972-adbd-199bb4322e8d",
   "metadata": {},
   "outputs": [],
   "source": []
  },
  {
   "cell_type": "code",
   "execution_count": null,
   "id": "a40dbefb-2211-4433-8d31-9e11ab1aa8f3",
   "metadata": {},
   "outputs": [],
   "source": []
  },
  {
   "cell_type": "code",
   "execution_count": null,
   "id": "308a5a69-0880-4959-a7c5-e83ea77cdc58",
   "metadata": {},
   "outputs": [],
   "source": []
  },
  {
   "cell_type": "code",
   "execution_count": null,
   "id": "b32d429a-df42-4a55-8259-e84654536187",
   "metadata": {},
   "outputs": [],
   "source": []
  },
  {
   "cell_type": "code",
   "execution_count": null,
   "id": "87010fc1-ba2c-414b-ae68-0a639cf40aa9",
   "metadata": {},
   "outputs": [],
   "source": []
  },
  {
   "cell_type": "code",
   "execution_count": null,
   "id": "648e7a43-0e6a-4991-bd30-6ece276dc2d1",
   "metadata": {},
   "outputs": [],
   "source": []
  },
  {
   "cell_type": "code",
   "execution_count": null,
   "id": "dee09b9c-c902-47c0-ac28-bf09b983be93",
   "metadata": {},
   "outputs": [],
   "source": []
  },
  {
   "cell_type": "code",
   "execution_count": null,
   "id": "1e83c6c4-ff50-42ff-b293-6c5a0b57226c",
   "metadata": {},
   "outputs": [],
   "source": []
  },
  {
   "cell_type": "code",
   "execution_count": 9,
   "id": "1bc22c0e-2baf-4fe0-88c9-6df635098cb5",
   "metadata": {},
   "outputs": [],
   "source": [
    "#import corner\n",
    "#fig = corner.corner(\n",
    "#            flat_samples, labels=fitted_labels)\n",
    "#plt.show()"
   ]
  },
  {
   "cell_type": "code",
   "execution_count": 10,
   "id": "0187be97-852c-4a05-8d8c-c5d80dc480c8",
   "metadata": {},
   "outputs": [],
   "source": [
    "#plt.figure(figsize=(6,6))\n",
    "#fig, axes = plt.subplots(soln.x.shape[0], figsize=(10,3*soln.x.shape[0]), sharex=True)\n",
    "##samples = sampler.get_chain()\n",
    "#samples = sampler.get_chain()[1950:]\n",
    "#for i in range(ndim):\n",
    "#    ax = axes[i]\n",
    "#    ax.plot(samples[:, :, i], \"k\", alpha=0.3)\n",
    "#    ax.set_xlim(0, len(samples))\n",
    "#    ax.set_ylabel(fitted_labels[i])\n",
    "#    ax.yaxis.set_label_coords(-0.1, 0.5)\n",
    "#    axes[-1].set_xlabel(\"step number\");\n",
    "#plt.show()\n",
    "#plt.clf()"
   ]
  },
  {
   "cell_type": "code",
   "execution_count": 11,
   "id": "f07e87b8-b1ca-43d1-8e2e-e46fd954f589",
   "metadata": {},
   "outputs": [],
   "source": [
    "#from ultranest.plot import PredictionBand\n",
    "#band = PredictionBand(wl/(1+fixed['z']))\n",
    "#inds = np.random.randint(len(flat_samples), size=10)\n",
    "#for ind in inds:\n",
    "#    sample = flat_samples[ind]\n",
    "#    modelfit, _, _, _ = lp.test(sample)\n",
    "#    band.add(modelfit)\n",
    "#    plt.plot(wl/(1+fixed['z']),modelfit,alpha=0.1)\n",
    "#\n",
    "#band.line(color='k',label='model')\n",
    "## add 1 sigma quantile\n",
    "#band.shade(color='k', alpha=0.5)\n",
    "## add wider quantile (0.01 .. 0.99)\n",
    "#band.shade(q=0.49, color='gray', alpha=0.2);\n",
    "#\n",
    "#plt.plot(wl/(1+fixed['z']),flux,label='data')\n",
    "#plt.title('Best fit model found by the emcee sampler')\n",
    "#plt.legend(fontsize=14)\n",
    "#plt.xlabel(\"x\")\n",
    "#plt.ylabel(\"y\");\n",
    "#plt.show()\n",
    "#plt.clf()"
   ]
  },
  {
   "cell_type": "code",
   "execution_count": null,
   "id": "2d61eff4-b5a9-44ca-aa18-d67fb6befb9c",
   "metadata": {},
   "outputs": [],
   "source": []
  },
  {
   "cell_type": "code",
   "execution_count": null,
   "id": "48a6b322-ab12-44fa-98ef-1704e776f906",
   "metadata": {},
   "outputs": [],
   "source": []
  },
  {
   "cell_type": "code",
   "execution_count": null,
   "id": "27725aec-a9eb-4ef0-96bb-8566cc649490",
   "metadata": {},
   "outputs": [],
   "source": []
  }
 ],
 "metadata": {
  "kernelspec": {
   "display_name": "Python 3 (ipykernel)",
   "language": "python",
   "name": "python3"
  },
  "language_info": {
   "codemirror_mode": {
    "name": "ipython",
    "version": 3
   },
   "file_extension": ".py",
   "mimetype": "text/x-python",
   "name": "python",
   "nbconvert_exporter": "python",
   "pygments_lexer": "ipython3",
   "version": "3.10.14"
  }
 },
 "nbformat": 4,
 "nbformat_minor": 5
}
